{
  "nbformat": 4,
  "nbformat_minor": 0,
  "metadata": {
    "colab": {
      "provenance": []
    },
    "kernelspec": {
      "name": "python3",
      "display_name": "Python 3"
    },
    "language_info": {
      "name": "python"
    }
  },
  "cells": [
    {
      "cell_type": "code",
      "execution_count": null,
      "metadata": {
        "id": "g0InUXWZbHYM"
      },
      "outputs": [],
      "source": [
        "##CNN Architectures\n",
        "\n",
        "from tensorflow.keras.applications import VGG16\n",
        "\n",
        "vgg_model = VGG16(weights='imagenet', include_top=False, input_shape=(224,224,3))\n",
        "vgg_model.summary()\n",
        "\n",
        "# o/p Conv2D: Extracts features (edges, textures) from the image.\n",
        "\n",
        "## MaxPooling2D: Reduces image size (downsampling), helps reduce computation."
      ]
    }
  ]
}